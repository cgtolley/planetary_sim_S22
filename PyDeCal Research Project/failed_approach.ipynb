{
  "nbformat": 4,
  "nbformat_minor": 0,
  "metadata": {
    "colab": {
      "name": "final_project.ipynb",
      "provenance": [],
      "collapsed_sections": []
    },
    "kernelspec": {
      "name": "python3",
      "display_name": "Python 3"
    },
    "language_info": {
      "name": "python"
    }
  },
  "cells": [
    {
      "cell_type": "markdown",
      "source": [
        "<h1> Final Project Goals! <h1>\n",
        "\n",
        "\n",
        "*   Find data\n",
        "*   Figure out best reference point\n",
        "*   Figure out best astronomical landmarks (milky way?)\n",
        "*   Map/Animate future planetary motion, possibly using curve fitter\n",
        "*   Map/Animate past planetary motion from some reference point\n",
        "\n"
      ],
      "metadata": {
        "id": "CDcBJvsAIW64"
      }
    },
    {
      "cell_type": "code",
      "source": [
        "import numpy as np\n",
        "import matplotlib.pyplot as plt\n",
        "import scipy\n",
        "import scipy.integrate\n",
        "from astropy import units as u\n",
        "from astropy import constants as c\n",
        "\n",
        "from mpl_toolkits.mplot3d import Axes3D\n",
        "from matplotlib.animation import FFMpegWriter\n",
        "\n",
        "class Vector:\n",
        "  def __init__(self, vx, vy):\n",
        "    self.vx = vx\n",
        "    self.vy = vy\n",
        "\n",
        "  def sub(self, other):\n",
        "    xel = self.vx - other.vx\n",
        "    yel = self.vy - other.vy\n",
        "    return Vector(xel, yel)\n",
        "  \n",
        "  def add(self, other):\n",
        "    xel = self.vx + other.vx\n",
        "    yel = self.vy + other.vy\n",
        "    return Vector(xel, yel)\n",
        "\n",
        "# Define masses\n",
        "Earth_mass = (c.M_earth/u.kg) # Earth's mass\n",
        "Sun_mass = (c.M_sun/u.kg) # Star's mass\n",
        "Mer_mass = (Earth_mass)*.0553 # Mercury's mass\n",
        "Ven_mass = (Earth_mass)*.815 # Venus' mass\n",
        "Mars_mass = (Earth_mass)*.107 # Mars' mass\n",
        "Jup_mass = (c.M_jup/u.kg) # Jupiter's mass\n",
        "Sat_mass = (Earth_mass)*95.2 # Saturn's mass\n",
        "Ura_mass = (Earth_mass)*17.1 # Uranus' mass\n",
        "Nep_mass = (Earth_mass)*14.5 # Neptune's mass\n",
        "Plu_mass = (Earth_mass)*.0022 # Pluto's mass\n",
        "\n",
        "\n",
        "# Define initial position vectors from perihelion in meters\n",
        "Distance_Earth = np.array([1.496e11, 0])\n",
        "Origin_Sun = np.array([0, 0]) # at orgin\n",
        "Distance_Mercury = np.array([4.68241e7,0])\n",
        "Distance_Venus = np.array([1.09356e11, 0])\n",
        "Distance_Mars = np.array([2.1093e11, 0])\n",
        "Distance_Jupiter = np.array([7.5397e11, 0])\n",
        "Distance_Saturn = np.array([1.3808e12, 0])\n",
        "Distance_Uranus = np.array([2.77953e12, 0])\n",
        "Distance_Neptune = np.array([4.5478e12, 0])\n",
        "Distance_Pluto = np.array([4.51187e12, 0])\n",
        "\n",
        "# Define initial velocities from perihelion in m/s\n",
        "Velocity_Earth = np.array([0, 302900])\n",
        "Velocity_Sun = np.array([0, 0]) # stationary\n",
        "Velocity_Mercury = np.array([0,61000])\n",
        "Velocity_Venus = np.array([0, 352600])\n",
        "Velocity_Mars = np.array([0, 265000])\n",
        "Velocity_Jupiter = np.array([0, 137200])\n",
        "Velocity_Saturn = np.array([0, 101800])\n",
        "Velocity_Uranus = np.array([0, 71100])\n",
        "Velocity_Neptune = np.array([0, 55000])\n",
        "Velocity_Pluto = np.array([0,61000])\n",
        "\n",
        "def OrbitEquation(w, t, m1, m2): # w is an array containing positions and velocities\n",
        "    r1 = w[:2]\n",
        "    v1 = w[2:4]\n",
        "    \n",
        "    r12 = np.linalg.norm(r1) #distance from star of planet\n",
        "    \n",
        "    dv1bydt = m2*(-r1)/r12**3  # derivative of velocity\n",
        "\n",
        "    dr1bydt = v1 # derivative of position \n",
        "    \n",
        "    r_derivs = dr1bydt\n",
        "    v_derivs = dv1bydt\n",
        "    derivs = np.concatenate((r_derivs, v_derivs)) # joining the two arrays, definitely remember concatenate\n",
        "    \n",
        "    return derivs\n"
      ],
      "metadata": {
        "id": "Ln8cx4wp8BS5"
      },
      "execution_count": null,
      "outputs": []
    },
    {
      "cell_type": "code",
      "source": [
        "# Package initial parameters into one array (just easier to work with this way)\n",
        "e_param = np.array([Distance_Earth, Velocity_Earth])\n",
        "merc_param = np.array([Distance_Mercury, Velocity_Mercury])\n",
        "v_param = np.array([Distance_Venus, Velocity_Venus])\n",
        "mars_param = np.array([Distance_Mars, Velocity_Mars])\n",
        "j_param = np.array([Distance_Jupiter, Velocity_Jupiter])\n",
        "s_param = np.array([Distance_Saturn, Velocity_Saturn])\n",
        "n_param = np.array([Distance_Neptune, Velocity_Neptune])\n",
        "u_param = np.array([Distance_Uranus, Velocity_Uranus])\n",
        "p_param = np.array([Distance_Pluto, Velocity_Pluto])\n",
        "#flatten like a pancake\n",
        "init_e = e_param.flatten()\n",
        "init_merc = merc_param.flatten()\n",
        "init_v = v_param.flatten()\n",
        "init_mars = mars_param.flatten()\n",
        "init_j = j_param.flatten()\n",
        "init_s = s_param.flatten()\n",
        "init_n = n_param.flatten()\n",
        "init_u = u_param.flatten()\n",
        "init_p = p_param.flatten()\n",
        "time_span = np.linspace(0, 12e7, 30000000)  # run for t=5 (500 points)\n"
      ],
      "metadata": {
        "id": "FnKvaw4Db94T"
      },
      "execution_count": null,
      "outputs": []
    },
    {
      "cell_type": "code",
      "source": [
        "# Run the ODE solver\n",
        "sol_e = scipy.integrate.odeint(OrbitEquation, init_e, time_span, args=(Earth_mass,Sun_mass)) #odeint!!!! Remember"
      ],
      "metadata": {
        "id": "P9cDjV9gexjJ"
      },
      "execution_count": null,
      "outputs": []
    },
    {
      "cell_type": "code",
      "source": [
        "sol_merc = scipy.integrate.odeint(OrbitEquation, init_merc, time_span, args = (Mer_mass, Sun_mass))"
      ],
      "metadata": {
        "id": "1Hj6Ja7_fu0q"
      },
      "execution_count": null,
      "outputs": []
    },
    {
      "cell_type": "code",
      "source": [
        "sol_v = scipy.integrate.odeint(OrbitEquation, init_v, time_span, args = (Ven_mass, Sun_mass))"
      ],
      "metadata": {
        "id": "zabwxWsegTzt"
      },
      "execution_count": null,
      "outputs": []
    },
    {
      "cell_type": "code",
      "source": [
        "\n",
        "sol_mars = scipy.integrate.odeint(OrbitEquation, init_mars, time_span, args = (Mars_mass, Sun_mass))"
      ],
      "metadata": {
        "id": "UT7tI1CmbY73"
      },
      "execution_count": null,
      "outputs": []
    },
    {
      "cell_type": "code",
      "source": [
        "sol_j = scipy.integrate.odeint(OrbitEquation, init_j, time_span, args=(Jup_mass, Sun_mass))"
      ],
      "metadata": {
        "id": "WdwZwf54e_qJ"
      },
      "execution_count": null,
      "outputs": []
    },
    {
      "cell_type": "code",
      "source": [
        "sol_s = scipy.integrate.odeint(OrbitEquation, init_s, time_span, args=(Sat_mass, Sun_mass))"
      ],
      "metadata": {
        "id": "7nXG4znZbUPk"
      },
      "execution_count": null,
      "outputs": []
    },
    {
      "cell_type": "code",
      "source": [
        "sol_u = scipy.integrate.odeint(OrbitEquation, init_u, time_span, args=(Ura_mass, Sun_mass))"
      ],
      "metadata": {
        "id": "kRBSSZvNe_0A"
      },
      "execution_count": null,
      "outputs": []
    },
    {
      "cell_type": "code",
      "source": [
        "sol_n = scipy.integrate.odeint(OrbitEquation, init_n, time_span, args=(Nep_mass, Sun_mass))"
      ],
      "metadata": {
        "id": "SgfIwQA7bRkS"
      },
      "execution_count": null,
      "outputs": []
    },
    {
      "cell_type": "code",
      "source": [
        "sol_p = scipy.integrate.odeint(OrbitEquation, init_p, time_span, args=(Plu_mass, Sun_mass))"
      ],
      "metadata": {
        "id": "hdvGcG04e_86"
      },
      "execution_count": null,
      "outputs": []
    },
    {
      "cell_type": "code",
      "source": [
        "# Pull arrays I want from odeint\n",
        "earth = sol_e[:,:2]\n",
        "merc = sol_merc[:,:2]\n",
        "venus = sol_v[:,:2]\n",
        "mars = sol_mars[:,:2]\n",
        "jup = sol_j[:,:2]\n",
        "saturn = sol_s[:,:2]\n",
        "uranus = sol_u[:,:2]\n",
        "neptune = sol_n[:,:2]\n",
        "pluto = sol_p[:,:2]"
      ],
      "metadata": {
        "id": "nAP-ntKffAFP"
      },
      "execution_count": null,
      "outputs": []
    },
    {
      "cell_type": "code",
      "source": [
        "#Make empty arrays for the Vectors\n",
        "mercWRT = []\n",
        "vWRT = []\n",
        "marsWRT = []\n",
        "jWRT = []\n",
        "sWRT = []\n",
        "uWRT = []\n",
        "nWRT = []\n",
        "pWRT = []\n",
        "#for loop that adds the vectors into the arrays\n",
        "for i in range(len(earth)):\n",
        "    #turn each into vector\n",
        "    vearth = Vector(earth[i][0], earth[i][1])\n",
        "    vmerc = Vector(merc[i][0], merc[i][1])\n",
        "    vvenus = Vector(venus[i][0], venus[i][1])\n",
        "    vmars = Vector(mars[i][0], mars[i][1])\n",
        "    vjup = Vector(jup[i][0], jup[i][1])\n",
        "    vsat = Vector(saturn[i][0], saturn[i][1])\n",
        "    vuranus = Vector(uranus[i][0], uranus[i][1])\n",
        "    vnept = Vector(neptune[i][0], neptune[i][1])\n",
        "    vpluto = Vector(pluto[i][0], pluto[i][1])\n",
        "    #add the vector subtraction to an array\n",
        "    mercWRT.append(vmerc.sub(vearth))\n",
        "    vWRT.append(vvenus.sub(vearth))\n",
        "    marsWRT.append(vmars.sub(vearth))\n",
        "    jWRT.append(vjup.sub(vearth))\n",
        "    sWRT.append(vsat.sub(vearth))\n",
        "    uWRT.append(vuranus.sub(vearth))\n",
        "    nWRT.append(vnept.sub(vearth))\n",
        "    pWRT.append(vpluto.sub(vearth))"
      ],
      "metadata": {
        "id": "xDN81psUb4Bw"
      },
      "execution_count": null,
      "outputs": []
    },
    {
      "cell_type": "code",
      "source": [
        "\n",
        "merc_x = []\n",
        "merc_y = []\n",
        "v_x =[]\n",
        "v_y = []\n",
        "mars_x = []\n",
        "mars_y = []\n",
        "j_x = []\n",
        "j_y = []\n",
        "s_x = []\n",
        "s_y = []\n",
        "u_x = []\n",
        "u_y = []\n",
        "n_x = []\n",
        "n_y = []\n",
        "p_x = []\n",
        "p_y = []\n",
        "\n",
        "for i in range(len(mercWRT)):\n",
        "    merc_x.append([mercWRT[i].vx])\n",
        "    merc_y.append([mercWRT[i].vy])\n",
        "\n",
        "    v_x.append([vWRT[i].vx])\n",
        "    v_y.append([vWRT[i].vy])\n",
        "\n",
        "    mars_x.append([marsWRT[i].vx])\n",
        "    mars_y.append([marsWRT[i].vy])\n",
        "\n",
        "    j_x.append([jWRT[i].vx])\n",
        "    j_y.append([jWRT[i].vy])\n",
        "\n",
        "    s_x.append([sWRT[i].vx])\n",
        "    s_y.append([sWRT[i].vy])\n",
        "\n",
        "    u_x.append([uWRT[i].vx])\n",
        "    u_y.append([uWRT[i].vy])\n",
        "\n",
        "    n_x.append([nWRT[i].vx])\n",
        "    n_y.append([nWRT[i].vy])\n",
        "\n",
        "    p_x.append([pWRT[i].vx])\n",
        "    p_y.append([pWRT[i].vy])"
      ],
      "metadata": {
        "id": "GaH0xMn6cPIm"
      },
      "execution_count": null,
      "outputs": []
    },
    {
      "cell_type": "code",
      "source": [
        "x_list = np.array([merc_x, v_x, mars_x, j_x, s_x, u_x, n_x,p_x])\n",
        "y_list = np.array([merc_y, v_y, mars_y, j_y, s_y, u_y, n_y, p_y])\n",
        "\n",
        "xlist = x_list.flatten()\n",
        "ylist = y_list.flatten()\n",
        "\n",
        "print(np.amin(xlist))\n",
        "print(np.amax(xlist))\n",
        "print(np.amin(ylist))\n",
        "print(np.amax(ylist))"
      ],
      "metadata": {
        "id": "z70pE3cNR0Lf"
      },
      "execution_count": null,
      "outputs": []
    },
    {
      "cell_type": "code",
      "source": [
        "metadata = dict(title='2D animation', artist='Matplotlib')\n",
        "writer = FFMpegWriter(fps=50, metadata=metadata, bitrate=200000)\n",
        "fig = plt.figure(dpi=200)\n",
        "\n",
        "fig, ax =plt.subplots(figsize=(12,12))\n",
        "with writer.saving(fig, 'guessandcheck.mp4', dpi = 200):\n",
        "  for i in range(len(time_span)):\n",
        "    ax.clear()\n",
        "    ax.scatter(0,0)\n",
        "    ax.scatter(earth[i][0], earth[i][1])\n",
        "    ax.scatter(merc[i][0], merc[i][1])\n",
        "    ax.scatter(mars[i][0], mars[i][1])\n",
        "    ax.scatter(venus[i][0], venus[i][1])\n",
        "    ax.scatter(jup[i][0], jup[i][1])\n",
        "    ax.scatter(saturn[i][0], saturn[i][1])\n",
        "    ax.scatter(uranus[i][0], uranus[i][1])\n",
        "    ax.scatter(neptune[i][0], neptune[i][1])\n",
        "    ax.scatter(pluto[i][0], pluto[i][1])\n",
        "    ax.set_xlim(-4e12, 4e12)\n",
        "    ax.set_ylim(-4e12, 4e12)\n",
        "    plt.draw()\n",
        "    plt.pause(.01)\n",
        "    writer.grab_frame()\n",
        "# with writer.saving(fig, 'finalproject.mp4', dpi = 200):\n",
        "#     for i in range(len(time_span)):\n",
        "#        ax.clear()\n",
        "#        ax.scatter(merc_x[i], merc_y[i],label='mercury')\n",
        "#        ax.scatter(v_x[i], v_y[i], label=\"venus\")\n",
        "#        ax.scatter(mars_x[i], mars_y[i], label=\"mars\")\n",
        "#        ax.scatter(j_x[i], j_y[i], label=\"jupiter\")\n",
        "#        ax.scatter(s_x[i], s_y[i], label='saturn')\n",
        "#        ax.scatter(u_x[i], u_y[i], label='uranus')\n",
        "#        ax.scatter(n_x[i], n_y[i], label='neptune')\n",
        "#        ax.scatter(p_x[i], p_y[i], label='pluto')\n",
        "#        ax.legend()\n",
        "#       #  ax.set_xlim(-1.5e11, 4.3e12)\n",
        "#       #  ax.set_ylim(-3e6, 2.5e6)\n",
        "#        plt.draw()\n",
        "#        plt.pause(.1)\n",
        "#        writer.grab_frame()"
      ],
      "metadata": {
        "id": "Tx1aqWRSJUx4",
        "colab": {
          "base_uri": "https://localhost:8080/",
          "height": 235
        },
        "outputId": "49798399-2f81-440c-fa48-120d9421341f"
      },
      "execution_count": null,
      "outputs": [
        {
          "output_type": "error",
          "ename": "NameError",
          "evalue": "ignored",
          "traceback": [
            "\u001b[0;31m---------------------------------------------------------------------------\u001b[0m",
            "\u001b[0;31mNameError\u001b[0m                                 Traceback (most recent call last)",
            "\u001b[0;32m<ipython-input-1-fbc599857ea7>\u001b[0m in \u001b[0;36m<module>\u001b[0;34m()\u001b[0m\n\u001b[1;32m      1\u001b[0m \u001b[0mmetadata\u001b[0m \u001b[0;34m=\u001b[0m \u001b[0mdict\u001b[0m\u001b[0;34m(\u001b[0m\u001b[0mtitle\u001b[0m\u001b[0;34m=\u001b[0m\u001b[0;34m'2D animation'\u001b[0m\u001b[0;34m,\u001b[0m \u001b[0martist\u001b[0m\u001b[0;34m=\u001b[0m\u001b[0;34m'Matplotlib'\u001b[0m\u001b[0;34m)\u001b[0m\u001b[0;34m\u001b[0m\u001b[0;34m\u001b[0m\u001b[0m\n\u001b[0;32m----> 2\u001b[0;31m \u001b[0mwriter\u001b[0m \u001b[0;34m=\u001b[0m \u001b[0mFFMpegWriter\u001b[0m\u001b[0;34m(\u001b[0m\u001b[0mfps\u001b[0m\u001b[0;34m=\u001b[0m\u001b[0;36m50\u001b[0m\u001b[0;34m,\u001b[0m \u001b[0mmetadata\u001b[0m\u001b[0;34m=\u001b[0m\u001b[0mmetadata\u001b[0m\u001b[0;34m,\u001b[0m \u001b[0mbitrate\u001b[0m\u001b[0;34m=\u001b[0m\u001b[0;36m200000\u001b[0m\u001b[0;34m)\u001b[0m\u001b[0;34m\u001b[0m\u001b[0;34m\u001b[0m\u001b[0m\n\u001b[0m\u001b[1;32m      3\u001b[0m \u001b[0mfig\u001b[0m \u001b[0;34m=\u001b[0m \u001b[0mplt\u001b[0m\u001b[0;34m.\u001b[0m\u001b[0mfigure\u001b[0m\u001b[0;34m(\u001b[0m\u001b[0mdpi\u001b[0m\u001b[0;34m=\u001b[0m\u001b[0;36m200\u001b[0m\u001b[0;34m)\u001b[0m\u001b[0;34m\u001b[0m\u001b[0;34m\u001b[0m\u001b[0m\n\u001b[1;32m      4\u001b[0m \u001b[0;34m\u001b[0m\u001b[0m\n\u001b[1;32m      5\u001b[0m \u001b[0mfig\u001b[0m\u001b[0;34m,\u001b[0m \u001b[0max\u001b[0m \u001b[0;34m=\u001b[0m\u001b[0mplt\u001b[0m\u001b[0;34m.\u001b[0m\u001b[0msubplots\u001b[0m\u001b[0;34m(\u001b[0m\u001b[0mfigsize\u001b[0m\u001b[0;34m=\u001b[0m\u001b[0;34m(\u001b[0m\u001b[0;36m12\u001b[0m\u001b[0;34m,\u001b[0m\u001b[0;36m12\u001b[0m\u001b[0;34m)\u001b[0m\u001b[0;34m)\u001b[0m\u001b[0;34m\u001b[0m\u001b[0;34m\u001b[0m\u001b[0m\n",
            "\u001b[0;31mNameError\u001b[0m: name 'FFMpegWriter' is not defined"
          ]
        }
      ]
    },
    {
      "cell_type": "code",
      "source": [
        ""
      ],
      "metadata": {
        "id": "kx1btm28ehuK"
      },
      "execution_count": null,
      "outputs": []
    }
  ]
}